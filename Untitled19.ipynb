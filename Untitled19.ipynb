{
  "nbformat": 4,
  "nbformat_minor": 0,
  "metadata": {
    "colab": {
      "provenance": [],
      "authorship_tag": "ABX9TyNcmYWQuJxU8IFFqFMI6A7I",
      "include_colab_link": true
    },
    "kernelspec": {
      "name": "python3",
      "display_name": "Python 3"
    },
    "language_info": {
      "name": "python"
    }
  },
  "cells": [
    {
      "cell_type": "markdown",
      "metadata": {
        "id": "view-in-github",
        "colab_type": "text"
      },
      "source": [
        "<a href=\"https://colab.research.google.com/github/ArapCheruiyot/ArapCheruiyot/blob/main/Untitled19.ipynb\" target=\"_parent\"><img src=\"https://colab.research.google.com/assets/colab-badge.svg\" alt=\"Open In Colab\"/></a>"
      ]
    },
    {
      "cell_type": "code",
      "execution_count": 22,
      "metadata": {
        "colab": {
          "base_uri": "https://localhost:8080/"
        },
        "id": "UZnG-YS6mct6",
        "outputId": "65bf6768-2ce1-45a6-b905-5ffeb3a88d20"
      },
      "outputs": [
        {
          "output_type": "stream",
          "name": "stdout",
          "text": [
            "Enter a letter: a\n",
            "Enter a letter: b\n",
            "Letter: a added successfully\n",
            "Letter: b added successfully\n",
            "Enter a letter: c\n",
            "Letter: c added successfully\n",
            "Enter a letter: d\n",
            "Letter: d added successfully\n",
            "Enter a letter: e\n",
            "Letter: e added successfully\n",
            "Enter a letter: f\n",
            "Letter: f added successfully\n",
            "Enter a letter: g\n",
            "Letter: g added successfully\n",
            "Enter a letter: h\n",
            "Letter: h added successfully\n",
            "Enter a letter: i\n",
            "Letter: i added successfully\n",
            "Enter a letter: j\n",
            "Letter: j added successfully\n",
            "Enter a letter: k\n",
            "Letter: k added successfully\n",
            "Enter a letter: l\n",
            "Letter: l added successfully\n",
            "Enter a letter: m\n",
            "Letter: m added successfully\n",
            "Enter a letter: n\n",
            "Letter: n added successfully\n",
            "Enter a letter: o\n",
            "Letter: o added successfully\n",
            "Enter a letter: p\n",
            "Letter: p added successfully\n",
            "Enter a letter: q\n",
            "Letter: q added successfully\n",
            "Enter a letter: r\n",
            "Letter: r added successfully\n",
            "Enter a letter: s\n",
            "Letter: s added successfully\n",
            "Enter a letter: t\n",
            "Letter: t added successfully\n",
            "Enter a letter: u\n",
            "Letter: u added successfully\n",
            "Enter a letter: v\n",
            "Letter: v added successfully\n",
            "Enter a letter: w\n",
            "Letter: w added successfully\n",
            "Enter a letter: x\n",
            "Letter: x added successfully\n",
            "Enter a letter: y\n",
            "Letter: y added successfully\n",
            "Enter a letter: z\n",
            "Letter: z added successfully\n",
            "Enter a letter: exit\n",
            "['a', 'b', 'c', 'd', 'e', 'f', 'g', 'h', 'i', 'j', 'k', 'l', 'm', 'n', 'o', 'p', 'q', 'r', 's', 't', 'u', 'v', 'w', 'x', 'y', 'z']\n"
          ]
        }
      ],
      "source": [
        "\n",
        "import pandas as pd\n",
        "import matplotlib as mat\n",
        "alphabet = []\n",
        "\n",
        "def add_letters():\n",
        "  while True:\n",
        "    letter = input(\"Enter a letter: \")\n",
        "    if letter.lower()==\"exit\":\n",
        "      break\n",
        "    try:\n",
        "      if letter.isalpha():\n",
        "        if letter in alphabet:\n",
        "          print(f\"Letter {letter} already added to the list\")\n",
        "          print(\"ALWAYS TYPE Y OR y TO PROCEED IF NOT, THE PROGRAMME WILL END\")\n",
        "          action = input(\"Do you wish to add a new letter\")\n",
        "          if action.lower()==\"y\" or action.lower()==\"Y\":\n",
        "            pass\n",
        "          else:\n",
        "            break\n",
        "        else:\n",
        "          alphabet.append(letter)\n",
        "          print(f\"Letter: {letter} added successfully\")\n",
        "      else:\n",
        "        raise ValueError(\"A non Aphabetic Charctaer ditected, please try again\")\n",
        "    except ValueError as ve:\n",
        "      print(f\"Error: {ve}\")\n",
        "  print(alphabete)\n",
        "add_letters()\n"
      ]
    }
  ]
}